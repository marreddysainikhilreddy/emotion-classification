{
 "cells": [
  {
   "cell_type": "code",
   "execution_count": 1,
   "metadata": {},
   "outputs": [],
   "source": [
    "import os\n",
    "from dotenv import load_dotenv\n",
    "load_dotenv()\n",
    "\n",
    "# Setting the comet variables for the project\n",
    "comet_api_key =  os.getenv(\"COMET_API_KEY\")\n",
    "comet_project_name = os.getenv(\"COMET_PROJECT_NAME\")\n",
    "comet_workspace_name = os.getenv(\"COMET_WORKSPACE_NAME\")"
   ]
  },
  {
   "cell_type": "code",
   "execution_count": 2,
   "metadata": {},
   "outputs": [
    {
     "name": "stderr",
     "output_type": "stream",
     "text": [
      "\u001b[1;38;5;214mCOMET WARNING:\u001b[0m As you are running in a Jupyter environment, you will need to call `experiment.end()` when finished to ensure all metrics and code are logged before exiting.\n",
      "\u001b[1;38;5;214mCOMET WARNING:\u001b[0m Unknown error exporting current conda environment\n",
      "\u001b[1;38;5;214mCOMET WARNING:\u001b[0m Unknown error retrieving Conda package as an explicit file\n",
      "\u001b[1;38;5;214mCOMET WARNING:\u001b[0m Unknown error retrieving Conda information\n",
      "\u001b[1;38;5;39mCOMET INFO:\u001b[0m Experiment is live on comet.com https://www.comet.com/nikhil527/image-emotion-classifier/298984a26b9845c0bc9281efd68aba14\n",
      "\n"
     ]
    }
   ],
   "source": [
    "# Integrating comet to track results\n",
    "from comet_ml import Experiment\n",
    "experiment = Experiment(\n",
    "  api_key=comet_api_key,\n",
    "  project_name=comet_project_name,\n",
    "  workspace=comet_workspace_name,\n",
    "  auto_metric_logging=True,\n",
    "  auto_param_logging=True,\n",
    "  auto_histogram_weight_logging=True,\n",
    "  auto_histogram_gradient_logging=True,\n",
    "  auto_histogram_activation_logging=True,\n",
    "  auto_histogram_epoch_rate=True,\n",
    "  log_code=True\n",
    ")\n",
    "\n",
    "# setting our experiment name in comet\n",
    "experiment.set_name(\"custom_cnn_v1\")"
   ]
  },
  {
   "cell_type": "code",
   "execution_count": 3,
   "metadata": {},
   "outputs": [],
   "source": [
    "from keras.models import Sequential\n",
    "from keras.layers import Dense, Dropout, Flatten\n",
    "from keras.layers import Conv2D, MaxPooling2D, BatchNormalization\n",
    "from keras.losses import categorical_crossentropy\n",
    "from keras.optimizers import Adam\n",
    "from tensorflow.keras.preprocessing.image import ImageDataGenerator\n",
    "from keras.regularizers import l2\n",
    "from keras.callbacks import EarlyStopping\n",
    "from keras.models import load_model\n",
    "import tensorflow as tf\n",
    "from matplotlib import pyplot as plt\n",
    "from collections import Counter\n",
    "import pandas as pd\n",
    "import numpy as np\n",
    "from sklearn.model_selection import train_test_split\n",
    "from tensorflow.keras.callbacks import ReduceLROnPlateau,ModelCheckpoint,EarlyStopping"
   ]
  },
  {
   "cell_type": "code",
   "execution_count": 4,
   "metadata": {},
   "outputs": [],
   "source": [
    "import sys \n",
    "import os\n",
    "\n",
    "# Adding the parent directory to the sys.path to access helper_functions\n",
    "parent_directory = os.path.dirname(os.getcwd())\n",
    "\n",
    "# Adds our parent directory to the list of paths that python searches for modules\n",
    "sys.path.append(parent_directory) \n",
    "\n",
    "from helper_functions import *"
   ]
  },
  {
   "cell_type": "code",
   "execution_count": 5,
   "metadata": {},
   "outputs": [
    {
     "data": {
      "text/html": [
       "<div>\n",
       "<style scoped>\n",
       "    .dataframe tbody tr th:only-of-type {\n",
       "        vertical-align: middle;\n",
       "    }\n",
       "\n",
       "    .dataframe tbody tr th {\n",
       "        vertical-align: top;\n",
       "    }\n",
       "\n",
       "    .dataframe thead th {\n",
       "        text-align: right;\n",
       "    }\n",
       "</style>\n",
       "<table border=\"1\" class=\"dataframe\">\n",
       "  <thead>\n",
       "    <tr style=\"text-align: right;\">\n",
       "      <th></th>\n",
       "      <th>emotion</th>\n",
       "      <th>pixels</th>\n",
       "      <th>Usage</th>\n",
       "    </tr>\n",
       "  </thead>\n",
       "  <tbody>\n",
       "    <tr>\n",
       "      <th>0</th>\n",
       "      <td>0</td>\n",
       "      <td>70 80 82 72 58 58 60 63 54 58 60 48 89 115 121...</td>\n",
       "      <td>Training</td>\n",
       "    </tr>\n",
       "    <tr>\n",
       "      <th>1</th>\n",
       "      <td>0</td>\n",
       "      <td>151 150 147 155 148 133 111 140 170 174 182 15...</td>\n",
       "      <td>Training</td>\n",
       "    </tr>\n",
       "    <tr>\n",
       "      <th>2</th>\n",
       "      <td>2</td>\n",
       "      <td>231 212 156 164 174 138 161 173 182 200 106 38...</td>\n",
       "      <td>Training</td>\n",
       "    </tr>\n",
       "    <tr>\n",
       "      <th>3</th>\n",
       "      <td>4</td>\n",
       "      <td>24 32 36 30 32 23 19 20 30 41 21 22 32 34 21 1...</td>\n",
       "      <td>Training</td>\n",
       "    </tr>\n",
       "    <tr>\n",
       "      <th>4</th>\n",
       "      <td>6</td>\n",
       "      <td>4 0 0 0 0 0 0 0 0 0 0 0 3 15 23 28 48 50 58 84...</td>\n",
       "      <td>Training</td>\n",
       "    </tr>\n",
       "  </tbody>\n",
       "</table>\n",
       "</div>"
      ],
      "text/plain": [
       "   emotion                                             pixels     Usage\n",
       "0        0  70 80 82 72 58 58 60 63 54 58 60 48 89 115 121...  Training\n",
       "1        0  151 150 147 155 148 133 111 140 170 174 182 15...  Training\n",
       "2        2  231 212 156 164 174 138 161 173 182 200 106 38...  Training\n",
       "3        4  24 32 36 30 32 23 19 20 30 41 21 22 32 34 21 1...  Training\n",
       "4        6  4 0 0 0 0 0 0 0 0 0 0 0 3 15 23 28 48 50 58 84...  Training"
      ]
     },
     "execution_count": 5,
     "metadata": {},
     "output_type": "execute_result"
    }
   ],
   "source": [
    "# Reading fer 2013 dataset\n",
    "data = pd.read_csv(r'C:\\Users\\saini\\OneDrive\\Documents\\masters\\first semester\\Machine learning\\datasets\\fer2013 csv dataset\\fer2013\\fer2013.csv')\n",
    "data.head()"
   ]
  },
  {
   "cell_type": "code",
   "execution_count": 6,
   "metadata": {},
   "outputs": [
    {
     "data": {
      "text/plain": [
       "array([[ 70.,  80.,  82., ...,  52.,  43.,  41.],\n",
       "       [ 65.,  61.,  58., ...,  56.,  52.,  44.],\n",
       "       [ 50.,  43.,  54., ...,  49.,  56.,  47.],\n",
       "       ...,\n",
       "       [ 91.,  65.,  42., ...,  72.,  56.,  43.],\n",
       "       [ 77.,  82.,  79., ..., 105.,  70.,  46.],\n",
       "       [ 77.,  72.,  84., ..., 106., 109.,  82.]], dtype=float32)"
      ]
     },
     "execution_count": 6,
     "metadata": {},
     "output_type": "execute_result"
    }
   ],
   "source": [
    "np.asarray(data['pixels'].tolist()[0].split(' ')).reshape(48,48).astype('float32')"
   ]
  },
  {
   "cell_type": "code",
   "execution_count": 7,
   "metadata": {},
   "outputs": [],
   "source": [
    "pixel_data_points = data['pixels'].tolist()\n",
    "reshaped_pixel_array = []\n",
    "\n",
    "for image_seq in pixel_data_points:\n",
    "    y = [int(x) for x in image_seq.split(' ')]\n",
    "    reshaped_pixel_array.append(np.asarray(y).reshape(48,48).astype('float32'))\n",
    "\n",
    "reshaped_pixel_array = np.asarray(reshaped_pixel_array)\n",
    "reshaped_pixel_array = np.expand_dims(reshaped_pixel_array, -1)\n",
    "y = pd.get_dummies(data['emotion']).values"
   ]
  },
  {
   "cell_type": "code",
   "execution_count": 8,
   "metadata": {},
   "outputs": [],
   "source": [
    "# centering the column mean around 0\n",
    "reshaped_pixel_array -= np.mean(reshaped_pixel_array, axis=0)\n",
    "# Reducing the spread of data around 0\n",
    "reshaped_pixel_array /= np.std(reshaped_pixel_array, axis=0)\n"
   ]
  },
  {
   "cell_type": "code",
   "execution_count": 9,
   "metadata": {},
   "outputs": [],
   "source": [
    "#splitting our data \n",
    "X_train, X_test, y_train, y_test = train_test_split(reshaped_pixel_array, y, test_size=0.1, random_state=44)\n",
    "X_train, X_valid, y_train, y_valid = train_test_split(X_train, y_train, test_size=0.1, random_state=40)"
   ]
  },
  {
   "cell_type": "code",
   "execution_count": 10,
   "metadata": {},
   "outputs": [],
   "source": [
    "# Defining our model architecture\n",
    "model = Sequential()\n",
    "\n",
    "model.add(Conv2D(64, kernel_size=(3, 3), activation='relu', input_shape=(48, 48, 1), data_format='channels_last', kernel_regularizer=l2(0.01)))\n",
    "model.add(Conv2D(64, kernel_size=(3, 3), activation='relu', padding='same'))\n",
    "model.add(BatchNormalization())\n",
    "model.add(MaxPooling2D(pool_size=(2, 2), strides=(2, 2)))\n",
    "model.add(Dropout(0.5))\n",
    "\n",
    "model.add(Conv2D(128, kernel_size=(3, 3), activation='relu', padding='same'))\n",
    "model.add(BatchNormalization())\n",
    "model.add(Conv2D(128, kernel_size=(3, 3), activation='relu', padding='same'))\n",
    "model.add(BatchNormalization())\n",
    "model.add(MaxPooling2D(pool_size=(2, 2), strides=(2, 2)))\n",
    "model.add(Dropout(0.5))\n",
    "\n",
    "model.add(Conv2D(256, kernel_size=(3, 3), activation='relu', padding='same'))\n",
    "model.add(BatchNormalization())\n",
    "model.add(Conv2D(256, kernel_size=(3, 3), activation='relu', padding='same'))\n",
    "model.add(BatchNormalization())\n",
    "model.add(MaxPooling2D(pool_size=(2, 2), strides=(2, 2)))\n",
    "model.add(Dropout(0.5))\n",
    "\n",
    "model.add(Conv2D(512, kernel_size=(3, 3), activation='relu', padding='same'))\n",
    "model.add(BatchNormalization())\n",
    "model.add(Conv2D(512, kernel_size=(3, 3), activation='relu', padding='same'))\n",
    "model.add(BatchNormalization())\n",
    "model.add(MaxPooling2D(pool_size=(2, 2), strides=(2, 2)))\n",
    "model.add(Dropout(0.5))\n",
    "\n",
    "model.add(Flatten())\n",
    "\n",
    "model.add(Dense(512, activation='relu'))\n",
    "model.add(Dropout(0.4))\n",
    "model.add(Dense(256, activation='relu'))\n",
    "model.add(Dropout(0.4))\n",
    "model.add(Dense(128, activation='relu'))\n",
    "model.add(Dropout(0.5))\n",
    "\n",
    "model.add(Dense(7, activation='softmax'))"
   ]
  },
  {
   "cell_type": "code",
   "execution_count": 11,
   "metadata": {},
   "outputs": [],
   "source": [
    "# we are adding early stopping to make sure that the model is not overfitting\n",
    "early_stopping = EarlyStopping(monitor='val_loss', patience=6, restore_best_weights=True)\n",
    "\n",
    "model.compile(loss=categorical_crossentropy,\n",
    "              optimizer=Adam(learning_rate=0.001, beta_1=0.9, beta_2=0.999, epsilon=1e-7),\n",
    "              metrics=['accuracy'])"
   ]
  },
  {
   "cell_type": "code",
   "execution_count": 12,
   "metadata": {},
   "outputs": [
    {
     "name": "stderr",
     "output_type": "stream",
     "text": [
      "\u001b[1;38;5;39mCOMET INFO:\u001b[0m Ignoring automatic log_parameter('verbose') because 'keras:verbose' is in COMET_LOGGING_PARAMETERS_IGNORE\n"
     ]
    },
    {
     "name": "stdout",
     "output_type": "stream",
     "text": [
      "Epoch 1/70\n",
      "909/909 [==============================] - 1373s 2s/step - loss: 1.9683 - accuracy: 0.2189 - val_loss: 1.8235 - val_accuracy: 0.2613\n",
      "Epoch 2/70\n",
      "909/909 [==============================] - 1207s 1s/step - loss: 1.8312 - accuracy: 0.2469 - val_loss: 1.7796 - val_accuracy: 0.2610\n",
      "Epoch 3/70\n",
      "909/909 [==============================] - 1131s 1s/step - loss: 1.7765 - accuracy: 0.2685 - val_loss: 1.6722 - val_accuracy: 0.3139\n",
      "Epoch 4/70\n",
      "909/909 [==============================] - 1172s 1s/step - loss: 1.6820 - accuracy: 0.3170 - val_loss: 1.5360 - val_accuracy: 0.3873\n",
      "Epoch 5/70\n",
      "909/909 [==============================] - 1083s 1s/step - loss: 1.5751 - accuracy: 0.3752 - val_loss: 1.4363 - val_accuracy: 0.4359\n",
      "Epoch 6/70\n",
      "909/909 [==============================] - 992s 1s/step - loss: 1.5107 - accuracy: 0.4045 - val_loss: 1.4025 - val_accuracy: 0.4508\n",
      "Epoch 7/70\n",
      "909/909 [==============================] - 1085s 1s/step - loss: 1.4666 - accuracy: 0.4226 - val_loss: 1.3422 - val_accuracy: 0.4873\n",
      "Epoch 8/70\n",
      "909/909 [==============================] - 1217s 1s/step - loss: 1.4250 - accuracy: 0.4456 - val_loss: 1.3021 - val_accuracy: 0.5015\n",
      "Epoch 9/70\n",
      "909/909 [==============================] - 1063s 1s/step - loss: 1.3888 - accuracy: 0.4641 - val_loss: 1.2797 - val_accuracy: 0.5161\n",
      "Epoch 10/70\n",
      "909/909 [==============================] - 946s 1s/step - loss: 1.3465 - accuracy: 0.4839 - val_loss: 1.2770 - val_accuracy: 0.4991\n",
      "Epoch 11/70\n",
      " 84/909 [=>............................] - ETA: 14:01 - loss: 1.3073 - accuracy: 0.4993"
     ]
    },
    {
     "name": "stderr",
     "output_type": "stream",
     "text": [
      "\u001b[1;38;5;196mCOMET ERROR:\u001b[0m Heartbeat processing error\n"
     ]
    },
    {
     "name": "stdout",
     "output_type": "stream",
     "text": [
      " 91/909 [==>...........................] - ETA: 13:52 - loss: 1.3092 - accuracy: 0.5007"
     ]
    },
    {
     "name": "stderr",
     "output_type": "stream",
     "text": [
      "\u001b[1;38;5;196mCOMET ERROR:\u001b[0m Error sending stdout/stderr batch (online experiment)\n"
     ]
    },
    {
     "name": "stdout",
     "output_type": "stream",
     "text": [
      "113/909 [==>...........................] - ETA: 13:29 - loss: 1.3144 - accuracy: 0.4975"
     ]
    },
    {
     "name": "stderr",
     "output_type": "stream",
     "text": [
      "\u001b[1;38;5;196mCOMET ERROR:\u001b[0m Error sending parameters batch (online experiment)\n"
     ]
    },
    {
     "name": "stdout",
     "output_type": "stream",
     "text": [
      "909/909 [==============================] - 1002s 1s/step - loss: 1.3293 - accuracy: 0.4910 - val_loss: 1.2292 - val_accuracy: 0.5331\n",
      "Epoch 12/70\n",
      "909/909 [==============================] - 1115s 1s/step - loss: 1.2914 - accuracy: 0.5093 - val_loss: 1.2233 - val_accuracy: 0.5285\n",
      "Epoch 13/70\n",
      "909/909 [==============================] - 1033s 1s/step - loss: 1.2710 - accuracy: 0.5199 - val_loss: 1.1976 - val_accuracy: 0.5511\n",
      "Epoch 14/70\n",
      "909/909 [==============================] - 959s 1s/step - loss: 1.2404 - accuracy: 0.5319 - val_loss: 1.1789 - val_accuracy: 0.5517\n",
      "Epoch 15/70\n",
      "909/909 [==============================] - 860s 945ms/step - loss: 1.2238 - accuracy: 0.5412 - val_loss: 1.1415 - val_accuracy: 0.5687\n",
      "Epoch 16/70\n",
      "909/909 [==============================] - 1152s 1s/step - loss: 1.1979 - accuracy: 0.5505 - val_loss: 1.1503 - val_accuracy: 0.5771\n",
      "Epoch 17/70\n",
      "909/909 [==============================] - 1223s 1s/step - loss: 1.1868 - accuracy: 0.5571 - val_loss: 1.1167 - val_accuracy: 0.5904\n",
      "Epoch 18/70\n",
      "909/909 [==============================] - 28875s 32s/step - loss: 1.1644 - accuracy: 0.5704 - val_loss: 1.1387 - val_accuracy: 0.5873\n",
      "Epoch 19/70\n",
      "909/909 [==============================] - 808s 889ms/step - loss: 1.1402 - accuracy: 0.5776 - val_loss: 1.1179 - val_accuracy: 0.5910\n",
      "Epoch 20/70\n",
      "909/909 [==============================] - 835s 918ms/step - loss: 1.1167 - accuracy: 0.5903 - val_loss: 1.1124 - val_accuracy: 0.5882\n",
      "Epoch 21/70\n",
      "909/909 [==============================] - 970s 1s/step - loss: 1.1021 - accuracy: 0.5927 - val_loss: 1.1262 - val_accuracy: 0.5913\n",
      "Epoch 22/70\n",
      "909/909 [==============================] - 1246s 1s/step - loss: 1.0869 - accuracy: 0.6006 - val_loss: 1.1228 - val_accuracy: 0.5854\n",
      "Epoch 23/70\n",
      "909/909 [==============================] - 1044s 1s/step - loss: 1.0665 - accuracy: 0.6081 - val_loss: 1.0942 - val_accuracy: 0.6124\n",
      "Epoch 24/70\n",
      "909/909 [==============================] - 937s 1s/step - loss: 1.0379 - accuracy: 0.6197 - val_loss: 1.0901 - val_accuracy: 0.6108\n",
      "Epoch 25/70\n",
      "909/909 [==============================] - 903s 993ms/step - loss: 1.0275 - accuracy: 0.6291 - val_loss: 1.1035 - val_accuracy: 0.6068\n",
      "Epoch 26/70\n",
      "909/909 [==============================] - 1104s 1s/step - loss: 1.0141 - accuracy: 0.6350 - val_loss: 1.0951 - val_accuracy: 0.6050\n",
      "Epoch 27/70\n",
      "909/909 [==============================] - 960s 1s/step - loss: 0.9904 - accuracy: 0.6396 - val_loss: 1.0850 - val_accuracy: 0.6152\n",
      "Epoch 28/70\n",
      "909/909 [==============================] - 1103s 1s/step - loss: 0.9774 - accuracy: 0.6473 - val_loss: 1.0979 - val_accuracy: 0.6077\n",
      "Epoch 29/70\n",
      "909/909 [==============================] - 990s 1s/step - loss: 0.9559 - accuracy: 0.6545 - val_loss: 1.0603 - val_accuracy: 0.6223\n",
      "Epoch 30/70\n",
      "909/909 [==============================] - 951s 1s/step - loss: 0.9466 - accuracy: 0.6581 - val_loss: 1.0745 - val_accuracy: 0.6269\n",
      "Epoch 31/70\n",
      "909/909 [==============================] - 879s 967ms/step - loss: 0.9263 - accuracy: 0.6680 - val_loss: 1.0636 - val_accuracy: 0.6241\n",
      "Epoch 32/70\n",
      "909/909 [==============================] - 895s 984ms/step - loss: 0.9115 - accuracy: 0.6720 - val_loss: 1.0654 - val_accuracy: 0.6297\n",
      "Epoch 33/70\n",
      "909/909 [==============================] - 899s 989ms/step - loss: 0.9022 - accuracy: 0.6780 - val_loss: 1.0637 - val_accuracy: 0.6257\n",
      "Epoch 34/70\n",
      "909/909 [==============================] - 950s 1s/step - loss: 0.8922 - accuracy: 0.6858 - val_loss: 1.0658 - val_accuracy: 0.6282\n",
      "Epoch 35/70\n",
      "909/909 [==============================] - 937s 1s/step - loss: 0.8721 - accuracy: 0.6898 - val_loss: 1.0507 - val_accuracy: 0.6350\n",
      "Epoch 36/70\n",
      "909/909 [==============================] - 987s 1s/step - loss: 0.8612 - accuracy: 0.6931 - val_loss: 1.0595 - val_accuracy: 0.6328\n",
      "Epoch 37/70\n",
      "909/909 [==============================] - 964s 1s/step - loss: 0.8427 - accuracy: 0.6994 - val_loss: 1.0597 - val_accuracy: 0.6372\n",
      "Epoch 38/70\n",
      "909/909 [==============================] - 2128s 2s/step - loss: 0.8337 - accuracy: 0.7042 - val_loss: 1.0804 - val_accuracy: 0.6285\n",
      "Epoch 39/70\n",
      "909/909 [==============================] - 1814s 2s/step - loss: 0.8255 - accuracy: 0.7093 - val_loss: 1.0516 - val_accuracy: 0.6337\n",
      "Epoch 40/70\n",
      "909/909 [==============================] - 1790s 2s/step - loss: 0.8088 - accuracy: 0.7121 - val_loss: 1.1218 - val_accuracy: 0.6412\n",
      "Epoch 41/70\n",
      "909/909 [==============================] - 1871s 2s/step - loss: 0.7935 - accuracy: 0.7181 - val_loss: 1.0857 - val_accuracy: 0.6387\n",
      "Epoch 42/70\n",
      "909/909 [==============================] - 1690s 2s/step - loss: 0.7690 - accuracy: 0.7282 - val_loss: 1.0608 - val_accuracy: 0.6449\n",
      "Epoch 43/70\n",
      "909/909 [==============================] - 1812s 2s/step - loss: 0.7685 - accuracy: 0.7291 - val_loss: 1.1136 - val_accuracy: 0.6430\n",
      "Epoch 44/70\n",
      "909/909 [==============================] - 1407s 2s/step - loss: 0.7613 - accuracy: 0.7369 - val_loss: 1.0542 - val_accuracy: 0.6505\n",
      "Epoch 45/70\n",
      "909/909 [==============================] - 1334s 1s/step - loss: 0.7496 - accuracy: 0.7365 - val_loss: 1.0689 - val_accuracy: 0.6424\n",
      "Epoch 46/70\n",
      "909/909 [==============================] - 1272s 1s/step - loss: 0.7459 - accuracy: 0.7376 - val_loss: 1.0714 - val_accuracy: 0.6421\n",
      "Epoch 47/70\n",
      "909/909 [==============================] - 1173s 1s/step - loss: 0.7202 - accuracy: 0.7508 - val_loss: 1.1080 - val_accuracy: 0.6452\n",
      "Epoch 48/70\n",
      "909/909 [==============================] - 1134s 1s/step - loss: 0.7036 - accuracy: 0.7523 - val_loss: 1.1004 - val_accuracy: 0.6427\n",
      "Epoch 49/70\n",
      "909/909 [==============================] - 1272s 1s/step - loss: 0.7006 - accuracy: 0.7571 - val_loss: 1.1248 - val_accuracy: 0.6384\n",
      "Epoch 50/70\n",
      "909/909 [==============================] - 1198s 1s/step - loss: 0.6959 - accuracy: 0.7563 - val_loss: 1.1497 - val_accuracy: 0.6446\n",
      "Epoch 51/70\n",
      "909/909 [==============================] - 1033s 1s/step - loss: 0.6820 - accuracy: 0.7618 - val_loss: 1.1089 - val_accuracy: 0.6390\n",
      "Epoch 52/70\n",
      "909/909 [==============================] - 981s 1s/step - loss: 0.6654 - accuracy: 0.7711 - val_loss: 1.1554 - val_accuracy: 0.6412\n",
      "Epoch 53/70\n",
      "909/909 [==============================] - 893s 982ms/step - loss: 0.6548 - accuracy: 0.7746 - val_loss: 1.1303 - val_accuracy: 0.6492\n",
      "Epoch 54/70\n",
      "909/909 [==============================] - 928s 1s/step - loss: 0.6519 - accuracy: 0.7757 - val_loss: 1.1000 - val_accuracy: 0.6241\n",
      "Epoch 55/70\n",
      "909/909 [==============================] - 1054s 1s/step - loss: 0.6457 - accuracy: 0.7790 - val_loss: 1.0980 - val_accuracy: 0.6368\n",
      "Epoch 56/70\n",
      "909/909 [==============================] - 1120s 1s/step - loss: 0.6422 - accuracy: 0.7809 - val_loss: 1.1781 - val_accuracy: 0.6446\n",
      "Epoch 57/70\n",
      "909/909 [==============================] - 848s 932ms/step - loss: 0.6331 - accuracy: 0.7832 - val_loss: 1.1406 - val_accuracy: 0.6353\n",
      "Epoch 58/70\n",
      "269/909 [=======>......................] - ETA: 9:34 - loss: 0.6083 - accuracy: 0.7943"
     ]
    },
    {
     "name": "stderr",
     "output_type": "stream",
     "text": [
      "\u001b[1;38;5;196mCOMET ERROR:\u001b[0m Error sending stdout/stderr batch (online experiment)\n"
     ]
    },
    {
     "name": "stdout",
     "output_type": "stream",
     "text": [
      "909/909 [==============================] - 861s 948ms/step - loss: 0.6230 - accuracy: 0.7867 - val_loss: 1.1387 - val_accuracy: 0.6322\n",
      "Epoch 59/70\n",
      "909/909 [==============================] - 962s 1s/step - loss: 0.6159 - accuracy: 0.7920 - val_loss: 1.1515 - val_accuracy: 0.6449\n",
      "Epoch 60/70\n",
      "909/909 [==============================] - 925s 1s/step - loss: 0.5991 - accuracy: 0.7971 - val_loss: 1.1336 - val_accuracy: 0.6396\n",
      "Epoch 61/70\n",
      "909/909 [==============================] - 991s 1s/step - loss: 0.6004 - accuracy: 0.7957 - val_loss: 1.1424 - val_accuracy: 0.6508\n",
      "Epoch 62/70\n",
      "909/909 [==============================] - 969s 1s/step - loss: 0.5828 - accuracy: 0.8041 - val_loss: 1.1606 - val_accuracy: 0.6396\n",
      "Epoch 63/70\n",
      "909/909 [==============================] - 1024s 1s/step - loss: 0.5877 - accuracy: 0.8025 - val_loss: 1.1609 - val_accuracy: 0.6474\n",
      "Epoch 64/70\n",
      "909/909 [==============================] - 1101s 1s/step - loss: 0.5645 - accuracy: 0.8085 - val_loss: 1.2440 - val_accuracy: 0.6458\n",
      "Epoch 65/70\n",
      "909/909 [==============================] - 1128s 1s/step - loss: 0.5721 - accuracy: 0.8116 - val_loss: 1.1442 - val_accuracy: 0.6498\n",
      "Epoch 66/70\n",
      "909/909 [==============================] - 1071s 1s/step - loss: 0.5503 - accuracy: 0.8165 - val_loss: 1.1819 - val_accuracy: 0.6467\n",
      "Epoch 67/70\n",
      "909/909 [==============================] - 30692s 34s/step - loss: 0.5523 - accuracy: 0.8168 - val_loss: 1.1752 - val_accuracy: 0.6545\n",
      "Epoch 68/70\n",
      "909/909 [==============================] - 1802s 2s/step - loss: 0.5341 - accuracy: 0.8196 - val_loss: 1.1539 - val_accuracy: 0.6443\n",
      "Epoch 69/70\n",
      "909/909 [==============================] - 2902s 3s/step - loss: 0.5273 - accuracy: 0.8209 - val_loss: 1.2124 - val_accuracy: 0.6440\n",
      "Epoch 70/70\n",
      "909/909 [==============================] - 2377s 3s/step - loss: 0.5221 - accuracy: 0.8282 - val_loss: 1.2453 - val_accuracy: 0.6362\n"
     ]
    }
   ],
   "source": [
    "# Training our model\n",
    "with tf.device('/GPU:0'):\n",
    "    model_results = model.fit(np.array(X_train), np.array(y_train), batch_size=32, epochs=70, verbose=1, validation_data=(np.array(X_valid), np.array(y_valid)), shuffle=True)"
   ]
  },
  {
   "cell_type": "code",
   "execution_count": 13,
   "metadata": {},
   "outputs": [],
   "source": [
    "model.save(\"custom_cnn_v1.h5\")"
   ]
  },
  {
   "cell_type": "code",
   "execution_count": 14,
   "metadata": {},
   "outputs": [
    {
     "name": "stderr",
     "output_type": "stream",
     "text": [
      "\u001b[1;38;5;39mCOMET INFO:\u001b[0m ---------------------------------------------------------------------------------------\n",
      "\u001b[1;38;5;39mCOMET INFO:\u001b[0m Comet.ml Experiment Summary\n",
      "\u001b[1;38;5;39mCOMET INFO:\u001b[0m ---------------------------------------------------------------------------------------\n",
      "\u001b[1;38;5;39mCOMET INFO:\u001b[0m   Data:\n",
      "\u001b[1;38;5;39mCOMET INFO:\u001b[0m     display_summary_level : 1\n",
      "\u001b[1;38;5;39mCOMET INFO:\u001b[0m     url                   : https://www.comet.com/nikhil527/image-emotion-classifier/298984a26b9845c0bc9281efd68aba14\n",
      "\u001b[1;38;5;39mCOMET INFO:\u001b[0m   Metrics [count] (min, max):\n",
      "\u001b[1;38;5;39mCOMET INFO:\u001b[0m     accuracy [70]                 : (0.21893490850925446, 0.8281615376472473)\n",
      "\u001b[1;38;5;39mCOMET INFO:\u001b[0m     batch_accuracy [6370]         : (0.09375, 0.9375)\n",
      "\u001b[1;38;5;39mCOMET INFO:\u001b[0m     batch_loss [6370]             : (0.23504576086997986, 6.9413323402404785)\n",
      "\u001b[1;38;5;39mCOMET INFO:\u001b[0m     epoch_duration [70]           : (806.734999999986, 30684.170999999973)\n",
      "\u001b[1;38;5;39mCOMET INFO:\u001b[0m     loss [70]                     : (0.5221053957939148, 1.9682931900024414)\n",
      "\u001b[1;38;5;39mCOMET INFO:\u001b[0m     val_accuracy [70]             : (0.260990709066391, 0.6544891595840454)\n",
      "\u001b[1;38;5;39mCOMET INFO:\u001b[0m     val_loss [70]                 : (1.0506550073623657, 1.8235430717468262)\n",
      "\u001b[1;38;5;39mCOMET INFO:\u001b[0m     validate_batch_accuracy [770] : (0.25457316637039185, 0.78125)\n",
      "\u001b[1;38;5;39mCOMET INFO:\u001b[0m     validate_batch_loss [770]     : (0.7128728032112122, 1.8243117332458496)\n",
      "\u001b[1;38;5;39mCOMET INFO:\u001b[0m   Others:\n",
      "\u001b[1;38;5;39mCOMET INFO:\u001b[0m     Name             : custom_cnn_v1\n",
      "\u001b[1;38;5;39mCOMET INFO:\u001b[0m     trainable_params : 5905863\n",
      "\u001b[1;38;5;39mCOMET INFO:\u001b[0m   Parameters:\n",
      "\u001b[1;38;5;39mCOMET INFO:\u001b[0m     Adam_amsgrad       : False\n",
      "\u001b[1;38;5;39mCOMET INFO:\u001b[0m     Adam_beta_1        : 0.9\n",
      "\u001b[1;38;5;39mCOMET INFO:\u001b[0m     Adam_beta_2        : 0.999\n",
      "\u001b[1;38;5;39mCOMET INFO:\u001b[0m     Adam_decay         : 0.0\n",
      "\u001b[1;38;5;39mCOMET INFO:\u001b[0m     Adam_epsilon       : 1e-07\n",
      "\u001b[1;38;5;39mCOMET INFO:\u001b[0m     Adam_learning_rate : 0.001\n",
      "\u001b[1;38;5;39mCOMET INFO:\u001b[0m     Adam_name          : Adam\n",
      "\u001b[1;38;5;39mCOMET INFO:\u001b[0m     Optimizer          : Adam\n",
      "\u001b[1;38;5;39mCOMET INFO:\u001b[0m     epochs             : 70\n",
      "\u001b[1;38;5;39mCOMET INFO:\u001b[0m     steps              : 909\n",
      "\u001b[1;38;5;39mCOMET INFO:\u001b[0m   Uploads:\n",
      "\u001b[1;38;5;39mCOMET INFO:\u001b[0m     environment details      : 1\n",
      "\u001b[1;38;5;39mCOMET INFO:\u001b[0m     filename                 : 1\n",
      "\u001b[1;38;5;39mCOMET INFO:\u001b[0m     git metadata             : 1\n",
      "\u001b[1;38;5;39mCOMET INFO:\u001b[0m     git-patch (uncompressed) : 1 (952.67 KB)\n",
      "\u001b[1;38;5;39mCOMET INFO:\u001b[0m     histogram3d              : 3763\n",
      "\u001b[1;38;5;39mCOMET INFO:\u001b[0m     installed packages       : 1\n",
      "\u001b[1;38;5;39mCOMET INFO:\u001b[0m     model graph              : 1\n",
      "\u001b[1;38;5;39mCOMET INFO:\u001b[0m     notebook                 : 1\n",
      "\u001b[1;38;5;39mCOMET INFO:\u001b[0m     source_code              : 1\n",
      "\u001b[1;38;5;39mCOMET INFO:\u001b[0m \n"
     ]
    }
   ],
   "source": [
    "experiment.end()"
   ]
  },
  {
   "cell_type": "code",
   "execution_count": 15,
   "metadata": {},
   "outputs": [
    {
     "data": {
      "image/png": "[encoded data removed]",
      "text/plain": [
       "<Figure size 640x480 with 1 Axes>"
      ]
     },
     "metadata": {},
     "output_type": "display_data"
    },
    {
     "data": {
      "image/png": "[encoded data removed]",
      "text/plain": [
       "<Figure size 640x480 with 1 Axes>"
      ]
     },
     "metadata": {},
     "output_type": "display_data"
    }
   ],
   "source": [
    "plot_graph(model_results)"
   ]
  },
  {
   "cell_type": "code",
   "execution_count": null,
   "metadata": {},
   "outputs": [],
   "source": []
  }
 ],
 "metadata": {
  "kernelspec": {
   "display_name": "tf",
   "language": "python",
   "name": "python3"
  },
  "language_info": {
   "codemirror_mode": {
    "name": "ipython",
    "version": 3
   },
   "file_extension": ".py",
   "mimetype": "text/x-python",
   "name": "python",
   "nbconvert_exporter": "python",
   "pygments_lexer": "ipython3",
   "version": "3.9.0"
  }
 },
 "nbformat": 4,
 "nbformat_minor": 2
}
