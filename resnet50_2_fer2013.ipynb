{
 "cells": [
  {
   "cell_type": "code",
   "execution_count": 1,
   "metadata": {},
   "outputs": [],
   "source": [
    "import tensorflow as tf\n",
    "from tensorflow.keras.preprocessing.image import ImageDataGenerator\n",
    "from tensorflow.keras.optimizers import Adam\n",
    "from tensorflow.keras.applications import ResNet50V2 as ResNet # Resnet50v2 is computationally more efficient and stable than Resnet\n",
    "from tensorflow.keras.callbacks import EarlyStopping\n",
    "from tensorflow.keras.layers import GlobalAveragePooling2D, Dense, Dropout\n",
    "from tensorflow.keras.models import Sequential, Model\n",
    "from tensorflow.keras.metrics import Precision, Recall, AUC"
   ]
  },
  {
   "cell_type": "code",
   "execution_count": 2,
   "metadata": {},
   "outputs": [
    {
     "name": "stdout",
     "output_type": "stream",
     "text": [
      "Found 28709 images belonging to 7 classes.\n",
      "Found 7178 images belonging to 7 classes.\n"
     ]
    }
   ],
   "source": [
    "data_gen = ImageDataGenerator(rescale=1/255)\n",
    "train_data_generator = data_gen.flow_from_directory(\n",
    "    \"c:/users/saini/onedrive/documents/masters/first semester/machine learning/datasets/fer2013/train\",\n",
    "    target_size=(48, 48),\n",
    "    batch_size = 64,\n",
    "    class_mode = 'categorical'\n",
    ")\n",
    "test_data_generator = data_gen.flow_from_directory(\n",
    "    \"c:/users/saini/onedrive/documents/masters/first semester/machine learning/datasets/fer2013/test\",\n",
    "    target_size=(48, 48),\n",
    "    batch_size = 64,\n",
    "    class_mode = 'categorical'\n",
    ")\n"
   ]
  },
  {
   "cell_type": "code",
   "execution_count": 3,
   "metadata": {},
   "outputs": [],
   "source": [
    "base_model = ResNet(include_top=False, weights='imagenet', input_shape=(48, 48, 3))\n",
    "\n",
    "x = base_model.output\n",
    "x = GlobalAveragePooling2D()(x)\n",
    "x = Dense(512, activation='relu')(x)\n",
    "x = Dropout(0.5)(x)\n",
    "\n",
    "predictions = Dense(7, activation='softmax')(x)\n",
    "model = Model(inputs=base_model.input, outputs=predictions)\n",
    "\n",
    "for layer in base_model.layers:\n",
    "    layer.trainable = False\n",
    "\n",
    "early_stopping = EarlyStopping(monitor='val_loss', patience=5, restore_best_weights=True)\n",
    "\n",
    "model.compile(optimizer=Adam(learning_rate=0.001), loss='categorical_crossentropy', metrics=['accuracy', Precision(name='precision'), Recall(name='recall'), AUC(name='auc')])\n",
    "\n"
   ]
  },
  {
   "cell_type": "code",
   "execution_count": 4,
   "metadata": {},
   "outputs": [
    {
     "name": "stdout",
     "output_type": "stream",
     "text": [
      "Epoch 1/10\n",
      "449/449 [==============================] - 312s 694ms/step - loss: 1.8213 - accuracy: 0.3245 - precision: 0.4502 - recall: 0.0844 - auc: 0.7108 - val_loss: 1.5958 - val_accuracy: 0.3833 - val_precision: 0.6688 - val_recall: 0.0892 - val_auc: 0.7647\n",
      "Epoch 2/10\n",
      "449/449 [==============================] - 301s 670ms/step - loss: 1.6033 - accuracy: 0.3767 - precision: 0.6050 - recall: 0.1178 - auc: 0.7633 - val_loss: 1.5661 - val_accuracy: 0.3972 - val_precision: 0.6664 - val_recall: 0.1383 - val_auc: 0.7741\n",
      "Epoch 3/10\n",
      "449/449 [==============================] - 295s 658ms/step - loss: 1.5499 - accuracy: 0.3989 - precision: 0.6239 - recall: 0.1456 - auc: 0.7814 - val_loss: 1.5421 - val_accuracy: 0.4021 - val_precision: 0.6799 - val_recall: 0.1287 - val_auc: 0.7845\n",
      "Epoch 4/10\n",
      "449/449 [==============================] - 239s 533ms/step - loss: 1.5114 - accuracy: 0.4182 - precision: 0.6441 - recall: 0.1703 - auc: 0.7941 - val_loss: 1.5361 - val_accuracy: 0.4100 - val_precision: 0.6330 - val_recall: 0.1711 - val_auc: 0.7875\n",
      "Epoch 5/10\n",
      "449/449 [==============================] - 238s 531ms/step - loss: 1.4692 - accuracy: 0.4338 - precision: 0.6641 - recall: 0.1957 - auc: 0.8069 - val_loss: 1.5283 - val_accuracy: 0.4135 - val_precision: 0.6696 - val_recall: 0.1499 - val_auc: 0.7901\n",
      "Epoch 6/10\n",
      "449/449 [==============================] - 243s 542ms/step - loss: 1.4285 - accuracy: 0.4509 - precision: 0.6767 - recall: 0.2194 - auc: 0.8185 - val_loss: 1.5285 - val_accuracy: 0.4252 - val_precision: 0.6480 - val_recall: 0.1769 - val_auc: 0.7920\n",
      "Epoch 7/10\n",
      "449/449 [==============================] - 264s 587ms/step - loss: 1.3869 - accuracy: 0.4715 - precision: 0.6958 - recall: 0.2451 - auc: 0.8300 - val_loss: 1.5290 - val_accuracy: 0.4291 - val_precision: 0.6387 - val_recall: 0.1970 - val_auc: 0.7952\n",
      "Epoch 8/10\n",
      "449/449 [==============================] - 243s 541ms/step - loss: 1.3499 - accuracy: 0.4865 - precision: 0.7084 - recall: 0.2651 - auc: 0.8398 - val_loss: 1.5358 - val_accuracy: 0.4349 - val_precision: 0.6312 - val_recall: 0.1812 - val_auc: 0.7930\n",
      "Epoch 9/10\n",
      "449/449 [==============================] - 384s 855ms/step - loss: 1.3202 - accuracy: 0.4980 - precision: 0.7127 - recall: 0.2846 - auc: 0.8477 - val_loss: 1.5582 - val_accuracy: 0.4252 - val_precision: 0.6055 - val_recall: 0.2166 - val_auc: 0.7929\n",
      "Epoch 10/10\n",
      "449/449 [==============================] - 248s 553ms/step - loss: 1.2887 - accuracy: 0.5110 - precision: 0.7219 - recall: 0.3032 - auc: 0.8553 - val_loss: 1.5627 - val_accuracy: 0.4395 - val_precision: 0.6051 - val_recall: 0.2334 - val_auc: 0.7960\n"
     ]
    }
   ],
   "source": [
    "result = model.fit(train_data_generator, epochs=10, validation_data=test_data_generator, callbacks=[early_stopping])"
   ]
  },
  {
   "cell_type": "code",
   "execution_count": 6,
   "metadata": {},
   "outputs": [
    {
     "data": {
      "application/javascript": [
       "\n",
       "        if (window._pyforest_update_imports_cell) { window._pyforest_update_imports_cell('import matplotlib.pyplot as plt'); }\n",
       "    "
      ],
      "text/plain": [
       "<IPython.core.display.Javascript object>"
      ]
     },
     "metadata": {},
     "output_type": "display_data"
    },
    {
     "data": {
      "application/javascript": [
       "\n",
       "        if (window._pyforest_update_imports_cell) { window._pyforest_update_imports_cell('import matplotlib.pyplot as plt'); }\n",
       "    "
      ],
      "text/plain": [
       "<IPython.core.display.Javascript object>"
      ]
     },
     "metadata": {},
     "output_type": "display_data"
    },
    {
     "data": {
      "application/javascript": [
       "\n",
       "        if (window._pyforest_update_imports_cell) { window._pyforest_update_imports_cell('import matplotlib.pyplot as plt'); }\n",
       "    "
      ],
      "text/plain": [
       "<IPython.core.display.Javascript object>"
      ]
     },
     "metadata": {},
     "output_type": "display_data"
    },
    {
     "data": {
      "application/javascript": [
       "\n",
       "        if (window._pyforest_update_imports_cell) { window._pyforest_update_imports_cell('import matplotlib.pyplot as plt'); }\n",
       "    "
      ],
      "text/plain": [
       "<IPython.core.display.Javascript object>"
      ]
     },
     "metadata": {},
     "output_type": "display_data"
    },
    {
     "data": {
      "application/javascript": [
       "\n",
       "        if (window._pyforest_update_imports_cell) { window._pyforest_update_imports_cell('import matplotlib.pyplot as plt'); }\n",
       "    "
      ],
      "text/plain": [
       "<IPython.core.display.Javascript object>"
      ]
     },
     "metadata": {},
     "output_type": "display_data"
    },
    {
     "data": {
      "application/javascript": [
       "\n",
       "        if (window._pyforest_update_imports_cell) { window._pyforest_update_imports_cell('import matplotlib.pyplot as plt'); }\n",
       "    "
      ],
      "text/plain": [
       "<IPython.core.display.Javascript object>"
      ]
     },
     "metadata": {},
     "output_type": "display_data"
    },
    {
     "data": {
      "application/javascript": [
       "\n",
       "        if (window._pyforest_update_imports_cell) { window._pyforest_update_imports_cell('import matplotlib.pyplot as plt'); }\n",
       "    "
      ],
      "text/plain": [
       "<IPython.core.display.Javascript object>"
      ]
     },
     "metadata": {},
     "output_type": "display_data"
    },
    {
     "data": {
      "image/png": "[encoded data removed]",
      "text/plain": [
       "<Figure size 432x288 with 1 Axes>"
      ]
     },
     "metadata": {
      "needs_background": "light"
     },
     "output_type": "display_data"
    },
    {
     "data": {
      "application/javascript": [
       "\n",
       "        if (window._pyforest_update_imports_cell) { window._pyforest_update_imports_cell('import matplotlib.pyplot as plt'); }\n",
       "    "
      ],
      "text/plain": [
       "<IPython.core.display.Javascript object>"
      ]
     },
     "metadata": {},
     "output_type": "display_data"
    },
    {
     "data": {
      "application/javascript": [
       "\n",
       "        if (window._pyforest_update_imports_cell) { window._pyforest_update_imports_cell('import matplotlib.pyplot as plt'); }\n",
       "    "
      ],
      "text/plain": [
       "<IPython.core.display.Javascript object>"
      ]
     },
     "metadata": {},
     "output_type": "display_data"
    },
    {
     "data": {
      "application/javascript": [
       "\n",
       "        if (window._pyforest_update_imports_cell) { window._pyforest_update_imports_cell('import matplotlib.pyplot as plt'); }\n",
       "    "
      ],
      "text/plain": [
       "<IPython.core.display.Javascript object>"
      ]
     },
     "metadata": {},
     "output_type": "display_data"
    },
    {
     "data": {
      "application/javascript": [
       "\n",
       "        if (window._pyforest_update_imports_cell) { window._pyforest_update_imports_cell('import matplotlib.pyplot as plt'); }\n",
       "    "
      ],
      "text/plain": [
       "<IPython.core.display.Javascript object>"
      ]
     },
     "metadata": {},
     "output_type": "display_data"
    },
    {
     "data": {
      "application/javascript": [
       "\n",
       "        if (window._pyforest_update_imports_cell) { window._pyforest_update_imports_cell('import matplotlib.pyplot as plt'); }\n",
       "    "
      ],
      "text/plain": [
       "<IPython.core.display.Javascript object>"
      ]
     },
     "metadata": {},
     "output_type": "display_data"
    },
    {
     "data": {
      "application/javascript": [
       "\n",
       "        if (window._pyforest_update_imports_cell) { window._pyforest_update_imports_cell('import matplotlib.pyplot as plt'); }\n",
       "    "
      ],
      "text/plain": [
       "<IPython.core.display.Javascript object>"
      ]
     },
     "metadata": {},
     "output_type": "display_data"
    },
    {
     "data": {
      "application/javascript": [
       "\n",
       "        if (window._pyforest_update_imports_cell) { window._pyforest_update_imports_cell('import matplotlib.pyplot as plt'); }\n",
       "    "
      ],
      "text/plain": [
       "<IPython.core.display.Javascript object>"
      ]
     },
     "metadata": {},
     "output_type": "display_data"
    },
    {
     "data": {
      "image/png": "[encoded data removed]",
      "text/plain": [
       "<Figure size 432x288 with 1 Axes>"
      ]
     },
     "metadata": {
      "needs_background": "light"
     },
     "output_type": "display_data"
    }
   ],
   "source": [
    "def plot_graph(result):\n",
    "    # Models Loss graph\n",
    "    plt.plot(result.history['loss'], label='Training Loss')\n",
    "    plt.plot(result.history['val_loss'], label='validation Loss')\n",
    "    plt.title('Training and Validation Loss')\n",
    "    plt.xlabel('Epoch')\n",
    "    plt.ylabel('Loss')\n",
    "    plt.legend()\n",
    "    plt.show()\n",
    "\n",
    "    # Models accuracy graph\n",
    "    plt.plot(result.history['accuracy'], label='Training Accuracy')\n",
    "    plt.plot(result.history['val_accuracy'], label='Validation Accuracy')\n",
    "    plt.title('Training and Validation Accuracy')\n",
    "    plt.xlabel('Epoch')\n",
    "    plt.ylabel('Accuracy')\n",
    "    plt.legend()\n",
    "    plt.show()\n",
    "plot_graph(result)"
   ]
  },
  {
   "cell_type": "code",
   "execution_count": null,
   "metadata": {},
   "outputs": [],
   "source": []
  }
 ],
 "metadata": {
  "kernelspec": {
   "display_name": "Python 3",
   "language": "python",
   "name": "python3"
  },
  "language_info": {
   "codemirror_mode": {
    "name": "ipython",
    "version": 3
   },
   "file_extension": ".py",
   "mimetype": "text/x-python",
   "name": "python",
   "nbconvert_exporter": "python",
   "pygments_lexer": "ipython3",
   "version": "3.8.5"
  }
 },
 "nbformat": 4,
 "nbformat_minor": 4
}
